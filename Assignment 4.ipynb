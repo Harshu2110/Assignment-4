{
 "cells": [
  {
   "cell_type": "code",
   "execution_count": null,
   "id": "d7d50288",
   "metadata": {},
   "outputs": [],
   "source": [
    "1. What exactly is []?"
   ]
  },
  {
   "cell_type": "code",
   "execution_count": null,
   "id": "ea90687f",
   "metadata": {},
   "outputs": [],
   "source": [
    "Ans: It is a empty list."
   ]
  },
  {
   "cell_type": "code",
   "execution_count": null,
   "id": "b8d9e0d2",
   "metadata": {},
   "outputs": [],
   "source": [
    "2. In a list of values stored in a variable called spam, how would you assign the value & 'hello' as the\n",
    "third value? (Assume [2, 4, 6, 8, 10] are in spam.)"
   ]
  },
  {
   "cell_type": "code",
   "execution_count": 4,
   "id": "0f725bfd",
   "metadata": {},
   "outputs": [],
   "source": [
    "spam= [2,4,6,8,10]\n",
    "spam[2]=str(\"hello\")"
   ]
  },
  {
   "cell_type": "code",
   "execution_count": 5,
   "id": "cd1ccdf5",
   "metadata": {},
   "outputs": [
    {
     "data": {
      "text/plain": [
       "[2, 4, 'hello', 8, 10]"
      ]
     },
     "execution_count": 5,
     "metadata": {},
     "output_type": "execute_result"
    }
   ],
   "source": [
    "spam"
   ]
  },
  {
   "cell_type": "code",
   "execution_count": 6,
   "id": "4206b768",
   "metadata": {},
   "outputs": [],
   "source": [
    "spam=['a','b','c','d']"
   ]
  },
  {
   "cell_type": "code",
   "execution_count": null,
   "id": "02789607",
   "metadata": {},
   "outputs": [],
   "source": [
    "3. What is the value of spam[int(int('3' * 2) / 11)]?"
   ]
  },
  {
   "cell_type": "code",
   "execution_count": 7,
   "id": "44fdcf9c",
   "metadata": {},
   "outputs": [
    {
     "data": {
      "text/plain": [
       "'d'"
      ]
     },
     "execution_count": 7,
     "metadata": {},
     "output_type": "execute_result"
    }
   ],
   "source": [
    "spam[int(int('3' * 2) / 11)]"
   ]
  },
  {
   "cell_type": "code",
   "execution_count": null,
   "id": "7e91ac52",
   "metadata": {},
   "outputs": [],
   "source": [
    "4. What is the value of spam[-1]?"
   ]
  },
  {
   "cell_type": "code",
   "execution_count": 8,
   "id": "f6f2d32e",
   "metadata": {},
   "outputs": [
    {
     "data": {
      "text/plain": [
       "'d'"
      ]
     },
     "execution_count": 8,
     "metadata": {},
     "output_type": "execute_result"
    }
   ],
   "source": [
    "spam[-1]"
   ]
  },
  {
   "cell_type": "code",
   "execution_count": null,
   "id": "34b153d1",
   "metadata": {},
   "outputs": [],
   "source": [
    "5. What is the value of spam[:2]?"
   ]
  },
  {
   "cell_type": "code",
   "execution_count": 9,
   "id": "85a47277",
   "metadata": {},
   "outputs": [
    {
     "data": {
      "text/plain": [
       "['a', 'b']"
      ]
     },
     "execution_count": 9,
     "metadata": {},
     "output_type": "execute_result"
    }
   ],
   "source": [
    "spam[:2]"
   ]
  },
  {
   "cell_type": "code",
   "execution_count": 10,
   "id": "370a0f39",
   "metadata": {},
   "outputs": [],
   "source": [
    "bacon=[3.14,'cat',11,'cat',True]"
   ]
  },
  {
   "cell_type": "code",
   "execution_count": null,
   "id": "ab20b1c2",
   "metadata": {},
   "outputs": [],
   "source": [
    "6. What is the value of bacon.index('cat')?"
   ]
  },
  {
   "cell_type": "code",
   "execution_count": 11,
   "id": "ff4f0005",
   "metadata": {},
   "outputs": [
    {
     "data": {
      "text/plain": [
       "1"
      ]
     },
     "execution_count": 11,
     "metadata": {},
     "output_type": "execute_result"
    }
   ],
   "source": [
    "bacon.index('cat')"
   ]
  },
  {
   "cell_type": "code",
   "execution_count": null,
   "id": "4572b438",
   "metadata": {},
   "outputs": [],
   "source": [
    "7. How does bacon.append(99) change the look of the list value in bacon?"
   ]
  },
  {
   "cell_type": "code",
   "execution_count": 12,
   "id": "b3108327",
   "metadata": {},
   "outputs": [],
   "source": [
    "bacon.append(99)"
   ]
  },
  {
   "cell_type": "code",
   "execution_count": 13,
   "id": "30200a7a",
   "metadata": {},
   "outputs": [
    {
     "data": {
      "text/plain": [
       "[3.14, 'cat', 11, 'cat', True, 99]"
      ]
     },
     "execution_count": 13,
     "metadata": {},
     "output_type": "execute_result"
    }
   ],
   "source": [
    "bacon"
   ]
  },
  {
   "cell_type": "code",
   "execution_count": null,
   "id": "d507b0a3",
   "metadata": {},
   "outputs": [],
   "source": [
    "8. How does bacon.remove('cat')change the look in the list bacon?"
   ]
  },
  {
   "cell_type": "code",
   "execution_count": 14,
   "id": "aeed71a3",
   "metadata": {},
   "outputs": [],
   "source": [
    "bacon.remove('cat')"
   ]
  },
  {
   "cell_type": "code",
   "execution_count": 15,
   "id": "cdeb96ef",
   "metadata": {},
   "outputs": [
    {
     "data": {
      "text/plain": [
       "[3.14, 11, 'cat', True, 99]"
      ]
     },
     "execution_count": 15,
     "metadata": {},
     "output_type": "execute_result"
    }
   ],
   "source": [
    "bacon"
   ]
  },
  {
   "cell_type": "code",
   "execution_count": null,
   "id": "46a68dc7",
   "metadata": {},
   "outputs": [],
   "source": [
    "9. What are the list concatenation and list replication operators?"
   ]
  },
  {
   "cell_type": "code",
   "execution_count": null,
   "id": "9de81027",
   "metadata": {},
   "outputs": [],
   "source": [
    "Ans: The operator for list concatenation is + and for the list replication is *"
   ]
  },
  {
   "cell_type": "code",
   "execution_count": null,
   "id": "e884bdbe",
   "metadata": {},
   "outputs": [],
   "source": [
    "10. What is difference between the list methods append() and insert()?"
   ]
  },
  {
   "cell_type": "code",
   "execution_count": null,
   "id": "1db94335",
   "metadata": {},
   "outputs": [],
   "source": [
    "Ans:The only difference between the append() and insert() operation is that in insert we can add any specific element at any index, while in append it add the element in the last index."
   ]
  },
  {
   "cell_type": "code",
   "execution_count": null,
   "id": "c8a2a454",
   "metadata": {},
   "outputs": [],
   "source": [
    "11. What are the two methods for removing items from a list?"
   ]
  },
  {
   "cell_type": "code",
   "execution_count": null,
   "id": "bafbac23",
   "metadata": {},
   "outputs": [],
   "source": [
    "Ans: By using remove() and by del statement. "
   ]
  },
  {
   "cell_type": "code",
   "execution_count": null,
   "id": "bb7beb7e",
   "metadata": {},
   "outputs": [],
   "source": [
    "12. Describe how list values and string values are identical."
   ]
  },
  {
   "cell_type": "code",
   "execution_count": null,
   "id": "aff3560f",
   "metadata": {},
   "outputs": [],
   "source": [
    "Ans: Both the list values and string values are sepuences, both can passed to len(), have indexes and slices, they can be replicated and concatinated, etc. "
   ]
  },
  {
   "cell_type": "code",
   "execution_count": null,
   "id": "7b9be7cd",
   "metadata": {},
   "outputs": [],
   "source": [
    "13. What is the difference between tuples and lists?"
   ]
  },
  {
   "cell_type": "code",
   "execution_count": null,
   "id": "026cd104",
   "metadata": {},
   "outputs": [],
   "source": [
    "Ans:The only difference between the tuples and list is that tuples are immutable while list are mutable, it means that tuples can not be modified but list can."
   ]
  },
  {
   "cell_type": "code",
   "execution_count": null,
   "id": "8fafe7cc",
   "metadata": {},
   "outputs": [],
   "source": [
    "14. How do you type a tuple value that only contains the integer 42?"
   ]
  },
  {
   "cell_type": "code",
   "execution_count": 18,
   "id": "a99fd4eb",
   "metadata": {},
   "outputs": [],
   "source": [
    "t=(42,)"
   ]
  },
  {
   "cell_type": "code",
   "execution_count": 19,
   "id": "cdf13d8a",
   "metadata": {},
   "outputs": [
    {
     "data": {
      "text/plain": [
       "tuple"
      ]
     },
     "execution_count": 19,
     "metadata": {},
     "output_type": "execute_result"
    }
   ],
   "source": [
    "type(t)"
   ]
  },
  {
   "cell_type": "code",
   "execution_count": null,
   "id": "f5c6064e",
   "metadata": {},
   "outputs": [],
   "source": [
    "15. How do you get a list value's tuple form? How do you get a tuple value's list form?"
   ]
  },
  {
   "cell_type": "code",
   "execution_count": null,
   "id": "27052d48",
   "metadata": {},
   "outputs": [],
   "source": [
    "Ans:By using tuple() and list() function."
   ]
  },
  {
   "cell_type": "code",
   "execution_count": null,
   "id": "e7d0d215",
   "metadata": {},
   "outputs": [],
   "source": [
    "16. Variables that \"contain\" list values are not necessarily lists themselves. Instead, what do they\n",
    "contain?"
   ]
  },
  {
   "cell_type": "code",
   "execution_count": null,
   "id": "6c1da8bd",
   "metadata": {},
   "outputs": [],
   "source": [
    "Ans: Variable will contain references to list values rather than the list values themselfs."
   ]
  },
  {
   "cell_type": "code",
   "execution_count": null,
   "id": "d7621259",
   "metadata": {},
   "outputs": [],
   "source": [
    "17. How do you distinguish between copy.copy() and copy.deepcopy()?"
   ]
  },
  {
   "cell_type": "code",
   "execution_count": null,
   "id": "1d658115",
   "metadata": {},
   "outputs": [],
   "source": [
    "Ans: The copy.copy() function will do a shallow copy of a list, while the copy.deepcopy() function will do a deep copy of a list. That is, only copy.deepcopy() will duplicate any lists inside the list."
   ]
  }
 ],
 "metadata": {
  "kernelspec": {
   "display_name": "Python 3 (ipykernel)",
   "language": "python",
   "name": "python3"
  },
  "language_info": {
   "codemirror_mode": {
    "name": "ipython",
    "version": 3
   },
   "file_extension": ".py",
   "mimetype": "text/x-python",
   "name": "python",
   "nbconvert_exporter": "python",
   "pygments_lexer": "ipython3",
   "version": "3.9.7"
  }
 },
 "nbformat": 4,
 "nbformat_minor": 5
}
